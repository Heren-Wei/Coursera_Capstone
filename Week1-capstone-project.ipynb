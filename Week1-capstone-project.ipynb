{
    "cells": [
        {
            "cell_type": "markdown",
            "metadata": {},
            "source": "# Capstone Project - The Battle of the Neighborhoods (Week 1)"
        },
        {
            "cell_type": "markdown",
            "metadata": {},
            "source": "## Introduction: Business Problem"
        },
        {
            "cell_type": "markdown",
            "metadata": {},
            "source": "Cafe ABC has been operating in Rosemead, CA since 2018. The cafe serves iconic Taiwanese dishes such as popcorn chicken, beef noodle soup, stinky tofu, minced meat over rice, and various flavors of boba drinks. The owners are considering opening a second location in Southern California due to the popularity of the first branch.\n\nSome factors to consider in choosing a second location are: locations that don't have a high concentration of restaurants to avoid heightened competition; demographics of the neighborhood such that introducing a Taiwanese eatery won't be too unfamiliar.\n\nWe will leverage data science to identify a few cities that are suitable as a second location. This report will be useful for stakeholders interested in opening a Taiwanese restaurant or cafe in the Southern California region."
        },
        {
            "cell_type": "markdown",
            "metadata": {},
            "source": "## Data"
        },
        {
            "cell_type": "markdown",
            "metadata": {},
            "source": "We will define our area of interest to be cities in Los Angeles county in Southern California, which is the county that the original location belongs to. Based on the definition of our problem, factors that will influence the decision will include:\n\n* How similar the demographics is compared to Rosemead, CA, representing how likely an Asian eatery will be successful cultural-wise\n* Number of existing restaurants in the same city\n\nThe following data sources will be used to extract and generate the required information:\n\n* Geospatial data for cities in the LA county will be sourced from Los Angeles GeoHub, an open-source data hub for location-based data\n* Demographics data will be will be obtained by webscrapping sites such as Wikipedia, which is ultimately sourced from United States Census Bureau\n* Number of restaurants and their types and locations will be obtained using Foursquare API"
        },
        {
            "cell_type": "markdown",
            "metadata": {},
            "source": "### Geospatial Data"
        },
        {
            "cell_type": "markdown",
            "metadata": {},
            "source": "First we install the necessary packages."
        },
        {
            "cell_type": "code",
            "execution_count": 1,
            "metadata": {},
            "outputs": [
                {
                    "name": "stdout",
                    "output_type": "stream",
                    "text": "Requirement already satisfied: bs4 in /home/jupyterlab/conda/envs/python/lib/python3.6/site-packages (0.0.1)\nRequirement already satisfied: beautifulsoup4 in /home/jupyterlab/conda/envs/python/lib/python3.6/site-packages (from bs4) (4.9.3)\nRequirement already satisfied: soupsieve>1.2; python_version >= \"3.0\" in /home/jupyterlab/conda/envs/python/lib/python3.6/site-packages (from beautifulsoup4->bs4) (2.2.1)\nImports and installations done.\n"
                }
            ],
            "source": "!pip install bs4\nfrom bs4 import BeautifulSoup # to help with webscrapping\n\nimport requests # library to handle requests\nimport pandas as pd # library for data analsysis\nimport numpy as np # library to handle data in a vectorized manner\nimport json # library to handle JSON files\nfrom pandas.io.json import json_normalize # tranform JSON file into a pandas dataframe\n\n# Matplotlib and associated plotting modules\nimport matplotlib.cm as cm\nimport matplotlib.colors as colors\n\n# import k-means from clustering stage\nfrom sklearn.cluster import KMeans\n\nprint('Imports and installations done.')"
        },
        {
            "cell_type": "markdown",
            "metadata": {},
            "source": "Since our goal is to identify cities suitable for a second location for the cafe, we need to obtain a list of cities in the Los Angeles county, along with their geospatial data such as longitudes and latitudes. Los Angeles GeoHub is an online portal with public access to the city's location-based data. One of the datasets include a list of city halls in LA county. We will extract the city name, zip code, longitude, and latitude information from this dataset."
        },
        {
            "cell_type": "code",
            "execution_count": 2,
            "metadata": {},
            "outputs": [
                {
                    "name": "stdout",
                    "output_type": "stream",
                    "text": "Data downloaded!\n"
                }
            ],
            "source": "!wget -q -O 'geo_data.json' https://opendata.arcgis.com/datasets/db2c52f3ddc945cb988c393deac1d487_67.geojson\nprint('Data downloaded!')"
        },
        {
            "cell_type": "code",
            "execution_count": 3,
            "metadata": {},
            "outputs": [],
            "source": "with open('geo_data.json') as json_data:\n    losangeles_data = json.load(json_data)"
        },
        {
            "cell_type": "markdown",
            "metadata": {},
            "source": "We see that within this dataset, the relevant data (city, zip code, latitude, longitude) are all in the features key, so we define a new variable for this data."
        },
        {
            "cell_type": "code",
            "execution_count": 4,
            "metadata": {},
            "outputs": [
                {
                    "data": {
                        "text/plain": "{'type': 'Feature',\n 'properties': {'OBJECTID': 2576,\n  'source': 'City of Manhattan Beach',\n  'ext_id': '',\n  'cat1': 'Government',\n  'cat2': 'City Halls',\n  'cat3': None,\n  'org_name': 'City of Manhattan Beach',\n  'Name': 'City Of Manhattan Beach',\n  'addrln1': '1400 Highland Ave',\n  'addrln2': None,\n  'city': 'Manhattan Beach',\n  'state': 'CA',\n  'hours': None,\n  'phones': 'FAX (310) 802-5001,  Service/Intake and Administration (310) 802-5000, City Clerk Service/Intake (310) 802-5056, Permits Service/Intake (310) 802-5536, City Attorney Service/Intake (310) 802-5061, Business Licenses Service/Intake (310) 802-5558, Permits S',\n  'url': 'http://www.citymb.info',\n  'info1': None,\n  'info2': None,\n  'post_id': 2815,\n  'description': '',\n  'zip': '90266',\n  'link': 'http://egis3.lacounty.gov/lms/?p=2815',\n  'use_type': 'publish',\n  'latitude': 33.88728147,\n  'longitude': -118.41060698,\n  'date_updated': '2011-02-09T11:08:51Z',\n  'email': None,\n  'dis_status': None,\n  'POINT_X': 6437047.60445897,\n  'POINT_Y': 1781614.13291465},\n 'geometry': {'type': 'Point',\n  'coordinates': [-118.41060703534713, 33.88728143708538]}}"
                    },
                    "execution_count": 4,
                    "metadata": {},
                    "output_type": "execute_result"
                }
            ],
            "source": "geospatial_data = losangeles_data['features']\ngeospatial_data[0]"
        },
        {
            "cell_type": "markdown",
            "metadata": {},
            "source": "We now want to transform the json data into a *pandas* dataframe."
        },
        {
            "cell_type": "code",
            "execution_count": 5,
            "metadata": {},
            "outputs": [],
            "source": "# define dataframe columns\ncolumn_names = ['City','ZipCode','Latitude','Longitude']\n\n# instantiate the dataframe\ncities = pd.DataFrame(columns=column_names)"
        },
        {
            "cell_type": "code",
            "execution_count": 6,
            "metadata": {},
            "outputs": [],
            "source": "# loop through the data and fill the dataframe one row at a time\nfor data in geospatial_data:\n    city = data['properties']['city'] \n    zipcode = data['properties']['zip']\n    latitude = data['properties']['latitude']\n    longitude = data['properties']['longitude']\n    \n    cities = cities.append({'City': city,\n                            'ZipCode': zipcode,\n                            'Latitude': latitude,\n                            'Longitude': longitude}, ignore_index=True)"
        },
        {
            "cell_type": "code",
            "execution_count": 7,
            "metadata": {},
            "outputs": [],
            "source": "# delete the row with index 4 since it has no value\ncities = cities.drop([4],axis=0)"
        },
        {
            "cell_type": "code",
            "execution_count": 8,
            "metadata": {},
            "outputs": [
                {
                    "data": {
                        "text/html": "<div>\n<style scoped>\n    .dataframe tbody tr th:only-of-type {\n        vertical-align: middle;\n    }\n\n    .dataframe tbody tr th {\n        vertical-align: top;\n    }\n\n    .dataframe thead th {\n        text-align: right;\n    }\n</style>\n<table border=\"1\" class=\"dataframe\">\n  <thead>\n    <tr style=\"text-align: right;\">\n      <th></th>\n      <th>City</th>\n      <th>ZipCode</th>\n      <th>Latitude</th>\n      <th>Longitude</th>\n    </tr>\n  </thead>\n  <tbody>\n    <tr>\n      <th>0</th>\n      <td>Manhattan Beach</td>\n      <td>90266</td>\n      <td>33.887281</td>\n      <td>-118.410607</td>\n    </tr>\n    <tr>\n      <th>1</th>\n      <td>Cerritos</td>\n      <td>90703</td>\n      <td>33.867227</td>\n      <td>-118.063873</td>\n    </tr>\n    <tr>\n      <th>2</th>\n      <td>Claremont</td>\n      <td>91711</td>\n      <td>34.095726</td>\n      <td>-117.716532</td>\n    </tr>\n    <tr>\n      <th>3</th>\n      <td>Burbank</td>\n      <td>91502</td>\n      <td>34.181820</td>\n      <td>-118.307890</td>\n    </tr>\n    <tr>\n      <th>5</th>\n      <td>Agoura Hills</td>\n      <td>91301</td>\n      <td>34.144303</td>\n      <td>-118.777612</td>\n    </tr>\n  </tbody>\n</table>\n</div>",
                        "text/plain": "              City ZipCode   Latitude   Longitude\n0  Manhattan Beach   90266  33.887281 -118.410607\n1         Cerritos   90703  33.867227 -118.063873\n2        Claremont   91711  34.095726 -117.716532\n3          Burbank   91502  34.181820 -118.307890\n5     Agoura Hills   91301  34.144303 -118.777612"
                    },
                    "execution_count": 8,
                    "metadata": {},
                    "output_type": "execute_result"
                }
            ],
            "source": "cities.head()"
        },
        {
            "cell_type": "markdown",
            "metadata": {},
            "source": "We now have a dataframe with city names, zip code, longitudes and latitudes."
        },
        {
            "cell_type": "code",
            "execution_count": 9,
            "metadata": {},
            "outputs": [
                {
                    "data": {
                        "text/plain": "(91, 4)"
                    },
                    "execution_count": 9,
                    "metadata": {},
                    "output_type": "execute_result"
                }
            ],
            "source": "cities.shape"
        },
        {
            "cell_type": "markdown",
            "metadata": {},
            "source": "### Demographics Data"
        },
        {
            "cell_type": "markdown",
            "metadata": {},
            "source": "We will obtain demographics data by webscrapping a Wikipedia page."
        },
        {
            "cell_type": "code",
            "execution_count": 10,
            "metadata": {},
            "outputs": [],
            "source": "#The below url contains html tables with data on cities in Los Angeles county\nurl = \"https://en.wikipedia.org/wiki/Demographics_of_Los_Angeles_County\"\ndata  = requests.get(url).text\nsoup = BeautifulSoup(data,\"html5lib\")"
        },
        {
            "cell_type": "code",
            "execution_count": 11,
            "metadata": {},
            "outputs": [
                {
                    "data": {
                        "text/plain": "4"
                    },
                    "execution_count": 11,
                    "metadata": {},
                    "output_type": "execute_result"
                }
            ],
            "source": "#find all html tables in the web page\ntables = soup.find_all('table')\nlen(tables)"
        },
        {
            "cell_type": "markdown",
            "metadata": {},
            "source": "We create a dataframe and loop through the data to fill in each row."
        },
        {
            "cell_type": "code",
            "execution_count": 12,
            "metadata": {},
            "outputs": [],
            "source": "demographics_data = pd.DataFrame(columns=[\"City\",\"Total Population\",\"White\",\"African American\",\"Native American\",\"Asian\",\"Pacific Islander\",\"Other\",\"Two or More\",\"Hispanic\"])\n\nfor row in tables[3].tbody.find_all(\"tr\"):\n    col = row.find_all(\"td\")\n    if (col != []):\n        city = col[0].text.replace('\\n','')\n        population = col[1].text.replace(',','')\n        white = col[2].text.replace(',','')\n        african_american = col[3].text.replace(',','')\n        native_american = col[4].text.replace(',','')\n        asian = col[5].text.replace(',','')\n        pacific_islander = col[6].text.replace(',','')\n        other = col[7].text.replace(',','')\n        two_or_more = col[8].text.replace(',','')\n        hispanic = col[9].text.replace(',','').replace('\\n','')\n        demographics_data = demographics_data.append({\"City\": city, \"Total Population\": population, \"White\": white,\"African American\": african_american,\n                                                      \"Native American\": native_american,\"Asian\": asian,\"Pacific Islander\": pacific_islander,\"Other\": other,\n                                                      \"Two or More\": two_or_more,\"Hispanic\":hispanic},ignore_index=True)"
        },
        {
            "cell_type": "code",
            "execution_count": 13,
            "metadata": {},
            "outputs": [
                {
                    "data": {
                        "text/html": "<div>\n<style scoped>\n    .dataframe tbody tr th:only-of-type {\n        vertical-align: middle;\n    }\n\n    .dataframe tbody tr th {\n        vertical-align: top;\n    }\n\n    .dataframe thead th {\n        text-align: right;\n    }\n</style>\n<table border=\"1\" class=\"dataframe\">\n  <thead>\n    <tr style=\"text-align: right;\">\n      <th></th>\n      <th>City</th>\n      <th>Total Population</th>\n      <th>White</th>\n      <th>African American</th>\n      <th>Native American</th>\n      <th>Asian</th>\n      <th>Pacific Islander</th>\n      <th>Other</th>\n      <th>Two or More</th>\n      <th>Hispanic</th>\n    </tr>\n  </thead>\n  <tbody>\n    <tr>\n      <th>0</th>\n      <td>The County</td>\n      <td>TotalPopulation</td>\n      <td>White</td>\n      <td>AfricanAmerican</td>\n      <td>NativeAmerican</td>\n      <td>Asian</td>\n      <td>PacificIslander</td>\n      <td>otherraces</td>\n      <td>two ormore races</td>\n      <td>Hispanicor Latino(of any race)</td>\n    </tr>\n    <tr>\n      <th>1</th>\n      <td>Los Angeles County</td>\n      <td>9818605</td>\n      <td>4936599</td>\n      <td>856874</td>\n      <td>72828</td>\n      <td>1346865</td>\n      <td>26094</td>\n      <td>2140632</td>\n      <td>438713</td>\n      <td>4687889</td>\n    </tr>\n    <tr>\n      <th>2</th>\n      <td></td>\n      <td>100%</td>\n      <td>50.3%</td>\n      <td>8.7%</td>\n      <td>0.7%</td>\n      <td>13.7%</td>\n      <td>0.3%</td>\n      <td>21.8%</td>\n      <td>4.5%</td>\n      <td>47.7%</td>\n    </tr>\n    <tr>\n      <th>3</th>\n      <td>Incorporatedcity</td>\n      <td>TotalPopulation</td>\n      <td>White</td>\n      <td>AfricanAmerican</td>\n      <td>NativeAmerican</td>\n      <td>Asian</td>\n      <td>PacificIslander</td>\n      <td>otherraces</td>\n      <td>two ormore races</td>\n      <td>Hispanicor Latino(of any race)</td>\n    </tr>\n    <tr>\n      <th>4</th>\n      <td>Agoura Hills</td>\n      <td>20330</td>\n      <td>17147</td>\n      <td>267</td>\n      <td>51</td>\n      <td>1521</td>\n      <td>24</td>\n      <td>590</td>\n      <td>730</td>\n      <td>1936</td>\n    </tr>\n    <tr>\n      <th>5</th>\n      <td>Alhambra</td>\n      <td>83089</td>\n      <td>23521</td>\n      <td>1281</td>\n      <td>538</td>\n      <td>43957</td>\n      <td>81</td>\n      <td>10805</td>\n      <td>2906</td>\n      <td>28582</td>\n    </tr>\n    <tr>\n      <th>6</th>\n      <td>Arcadia</td>\n      <td>56364</td>\n      <td>18191</td>\n      <td>681</td>\n      <td>186</td>\n      <td>33353</td>\n      <td>16</td>\n      <td>2352</td>\n      <td>1585</td>\n      <td>6799</td>\n    </tr>\n    <tr>\n      <th>7</th>\n      <td>Artesia</td>\n      <td>16522</td>\n      <td>6446</td>\n      <td>589</td>\n      <td>94</td>\n      <td>6131</td>\n      <td>40</td>\n      <td>2630</td>\n      <td>592</td>\n      <td>5910</td>\n    </tr>\n    <tr>\n      <th>8</th>\n      <td>Avalon</td>\n      <td>3728</td>\n      <td>2313</td>\n      <td>20</td>\n      <td>22</td>\n      <td>49</td>\n      <td>13</td>\n      <td>1137</td>\n      <td>174</td>\n      <td>2079</td>\n    </tr>\n    <tr>\n      <th>9</th>\n      <td>Azusa</td>\n      <td>46361</td>\n      <td>26715</td>\n      <td>1499</td>\n      <td>562</td>\n      <td>4054</td>\n      <td>87</td>\n      <td>11270</td>\n      <td>2174</td>\n      <td>31328</td>\n    </tr>\n  </tbody>\n</table>\n</div>",
                        "text/plain": "                  City Total Population    White African American  \\\n0           The County  TotalPopulation    White  AfricanAmerican   \n1   Los Angeles County          9818605  4936599           856874   \n2                                  100%    50.3%             8.7%   \n3     Incorporatedcity  TotalPopulation    White  AfricanAmerican   \n4         Agoura Hills            20330    17147              267   \n5             Alhambra            83089    23521             1281   \n6              Arcadia            56364    18191              681   \n7              Artesia            16522     6446              589   \n8               Avalon             3728     2313               20   \n9                Azusa            46361    26715             1499   \n\n  Native American    Asian Pacific Islander       Other       Two or More  \\\n0  NativeAmerican    Asian  PacificIslander  otherraces  two ormore races   \n1           72828  1346865            26094     2140632            438713   \n2            0.7%    13.7%             0.3%       21.8%              4.5%   \n3  NativeAmerican    Asian  PacificIslander  otherraces  two ormore races   \n4              51     1521               24         590               730   \n5             538    43957               81       10805              2906   \n6             186    33353               16        2352              1585   \n7              94     6131               40        2630               592   \n8              22       49               13        1137               174   \n9             562     4054               87       11270              2174   \n\n                         Hispanic  \n0  Hispanicor Latino(of any race)  \n1                         4687889  \n2                           47.7%  \n3  Hispanicor Latino(of any race)  \n4                            1936  \n5                           28582  \n6                            6799  \n7                            5910  \n8                            2079  \n9                           31328  "
                    },
                    "execution_count": 13,
                    "metadata": {},
                    "output_type": "execute_result"
                }
            ],
            "source": "demographics_data[0:10]"
        },
        {
            "cell_type": "markdown",
            "metadata": {},
            "source": "We see that the data for each city begins with row with index 4, and there are a few rows with sub-headers that we should drop."
        },
        {
            "cell_type": "code",
            "execution_count": 14,
            "metadata": {},
            "outputs": [
                {
                    "data": {
                        "text/html": "<div>\n<style scoped>\n    .dataframe tbody tr th:only-of-type {\n        vertical-align: middle;\n    }\n\n    .dataframe tbody tr th {\n        vertical-align: top;\n    }\n\n    .dataframe thead th {\n        text-align: right;\n    }\n</style>\n<table border=\"1\" class=\"dataframe\">\n  <thead>\n    <tr style=\"text-align: right;\">\n      <th></th>\n      <th>City</th>\n      <th>Total Population</th>\n      <th>White</th>\n      <th>African American</th>\n      <th>Native American</th>\n      <th>Asian</th>\n      <th>Pacific Islander</th>\n      <th>Other</th>\n      <th>Two or More</th>\n      <th>Hispanic</th>\n    </tr>\n  </thead>\n  <tbody>\n    <tr>\n      <th>4</th>\n      <td>Agoura Hills</td>\n      <td>20330</td>\n      <td>17147</td>\n      <td>267</td>\n      <td>51</td>\n      <td>1521</td>\n      <td>24</td>\n      <td>590</td>\n      <td>730</td>\n      <td>1936</td>\n    </tr>\n    <tr>\n      <th>5</th>\n      <td>Alhambra</td>\n      <td>83089</td>\n      <td>23521</td>\n      <td>1281</td>\n      <td>538</td>\n      <td>43957</td>\n      <td>81</td>\n      <td>10805</td>\n      <td>2906</td>\n      <td>28582</td>\n    </tr>\n    <tr>\n      <th>6</th>\n      <td>Arcadia</td>\n      <td>56364</td>\n      <td>18191</td>\n      <td>681</td>\n      <td>186</td>\n      <td>33353</td>\n      <td>16</td>\n      <td>2352</td>\n      <td>1585</td>\n      <td>6799</td>\n    </tr>\n    <tr>\n      <th>7</th>\n      <td>Artesia</td>\n      <td>16522</td>\n      <td>6446</td>\n      <td>589</td>\n      <td>94</td>\n      <td>6131</td>\n      <td>40</td>\n      <td>2630</td>\n      <td>592</td>\n      <td>5910</td>\n    </tr>\n    <tr>\n      <th>8</th>\n      <td>Avalon</td>\n      <td>3728</td>\n      <td>2313</td>\n      <td>20</td>\n      <td>22</td>\n      <td>49</td>\n      <td>13</td>\n      <td>1137</td>\n      <td>174</td>\n      <td>2079</td>\n    </tr>\n  </tbody>\n</table>\n</div>",
                        "text/plain": "           City Total Population  White African American Native American  \\\n4  Agoura Hills            20330  17147              267              51   \n5      Alhambra            83089  23521             1281             538   \n6       Arcadia            56364  18191              681             186   \n7       Artesia            16522   6446              589              94   \n8        Avalon             3728   2313               20              22   \n\n   Asian Pacific Islander  Other Two or More Hispanic  \n4   1521               24    590         730     1936  \n5  43957               81  10805        2906    28582  \n6  33353               16   2352        1585     6799  \n7   6131               40   2630         592     5910  \n8     49               13   1137         174     2079  "
                    },
                    "execution_count": 14,
                    "metadata": {},
                    "output_type": "execute_result"
                }
            ],
            "source": "demographics_data = demographics_data.drop([0,1,2,3,92,146,147])\ndemographics_data[0:5]"
        },
        {
            "cell_type": "markdown",
            "metadata": {},
            "source": "In order to compare among the cities, it's better to convert the absolute number of each demographic to a ratio. First we need to convert every column except for the City column to integers. "
        },
        {
            "cell_type": "code",
            "execution_count": 15,
            "metadata": {},
            "outputs": [],
            "source": "demographics_data[\"Total Population\"] = pd.to_numeric(demographics_data[\"Total Population\"])\ndemographics_data[\"White\"] = pd.to_numeric(demographics_data[\"White\"])\ndemographics_data[\"African American\"] = pd.to_numeric(demographics_data[\"African American\"])\ndemographics_data[\"Native American\"] = pd.to_numeric(demographics_data[\"Native American\"])\ndemographics_data[\"Asian\"] = pd.to_numeric(demographics_data[\"Asian\"])\ndemographics_data[\"Pacific Islander\"] = pd.to_numeric(demographics_data[\"Pacific Islander\"])\ndemographics_data[\"Other\"] = pd.to_numeric(demographics_data[\"Other\"])\ndemographics_data[\"Two or More\"] = pd.to_numeric(demographics_data[\"Two or More\"])\ndemographics_data[\"Hispanic\"] = pd.to_numeric(demographics_data[\"Hispanic\"])"
        },
        {
            "cell_type": "code",
            "execution_count": 16,
            "metadata": {},
            "outputs": [
                {
                    "data": {
                        "text/plain": "City                object\nTotal Population     int64\nWhite                int64\nAfrican American     int64\nNative American      int64\nAsian                int64\nPacific Islander     int64\nOther                int64\nTwo or More          int64\nHispanic             int64\ndtype: object"
                    },
                    "execution_count": 16,
                    "metadata": {},
                    "output_type": "execute_result"
                }
            ],
            "source": "demographics_data.dtypes"
        },
        {
            "cell_type": "markdown",
            "metadata": {},
            "source": "Now that the columns are integers, we perform the division and replace the original columns."
        },
        {
            "cell_type": "code",
            "execution_count": 17,
            "metadata": {},
            "outputs": [],
            "source": "demographics_data[\"White\"] = demographics_data[\"White\"] / demographics_data[\"Total Population\"]\ndemographics_data[\"African American\"] = demographics_data[\"African American\"] / demographics_data[\"Total Population\"]\ndemographics_data[\"Native American\"] = demographics_data[\"Native American\"] /demographics_data[\"Total Population\"]\ndemographics_data[\"Asian\"] = demographics_data[\"Asian\"] / demographics_data[\"Total Population\"]\ndemographics_data[\"Pacific Islander\"] = demographics_data[\"Pacific Islander\"] / demographics_data[\"Total Population\"]\ndemographics_data[\"Other\"] = demographics_data[\"Other\"] / demographics_data[\"Total Population\"]\ndemographics_data[\"Two or More\"] = demographics_data[\"Two or More\"]/ demographics_data[\"Total Population\"]\ndemographics_data[\"Hispanic\"] = demographics_data[\"Hispanic\"] / demographics_data[\"Total Population\"]"
        },
        {
            "cell_type": "code",
            "execution_count": 18,
            "metadata": {},
            "outputs": [
                {
                    "data": {
                        "text/html": "<div>\n<style scoped>\n    .dataframe tbody tr th:only-of-type {\n        vertical-align: middle;\n    }\n\n    .dataframe tbody tr th {\n        vertical-align: top;\n    }\n\n    .dataframe thead th {\n        text-align: right;\n    }\n</style>\n<table border=\"1\" class=\"dataframe\">\n  <thead>\n    <tr style=\"text-align: right;\">\n      <th></th>\n      <th>City</th>\n      <th>Total Population</th>\n      <th>White</th>\n      <th>African American</th>\n      <th>Native American</th>\n      <th>Asian</th>\n      <th>Pacific Islander</th>\n      <th>Other</th>\n      <th>Two or More</th>\n      <th>Hispanic</th>\n    </tr>\n  </thead>\n  <tbody>\n    <tr>\n      <th>4</th>\n      <td>Agoura Hills</td>\n      <td>20330</td>\n      <td>0.843433</td>\n      <td>0.013133</td>\n      <td>0.002509</td>\n      <td>0.074816</td>\n      <td>0.001181</td>\n      <td>0.029021</td>\n      <td>0.035908</td>\n      <td>0.095229</td>\n    </tr>\n    <tr>\n      <th>5</th>\n      <td>Alhambra</td>\n      <td>83089</td>\n      <td>0.283082</td>\n      <td>0.015417</td>\n      <td>0.006475</td>\n      <td>0.529035</td>\n      <td>0.000975</td>\n      <td>0.130041</td>\n      <td>0.034975</td>\n      <td>0.343993</td>\n    </tr>\n    <tr>\n      <th>6</th>\n      <td>Arcadia</td>\n      <td>56364</td>\n      <td>0.322741</td>\n      <td>0.012082</td>\n      <td>0.003300</td>\n      <td>0.591743</td>\n      <td>0.000284</td>\n      <td>0.041729</td>\n      <td>0.028121</td>\n      <td>0.120627</td>\n    </tr>\n    <tr>\n      <th>7</th>\n      <td>Artesia</td>\n      <td>16522</td>\n      <td>0.390146</td>\n      <td>0.035649</td>\n      <td>0.005689</td>\n      <td>0.371081</td>\n      <td>0.002421</td>\n      <td>0.159182</td>\n      <td>0.035831</td>\n      <td>0.357705</td>\n    </tr>\n    <tr>\n      <th>8</th>\n      <td>Avalon</td>\n      <td>3728</td>\n      <td>0.620440</td>\n      <td>0.005365</td>\n      <td>0.005901</td>\n      <td>0.013144</td>\n      <td>0.003487</td>\n      <td>0.304989</td>\n      <td>0.046674</td>\n      <td>0.557672</td>\n    </tr>\n  </tbody>\n</table>\n</div>",
                        "text/plain": "           City  Total Population     White  African American  \\\n4  Agoura Hills             20330  0.843433          0.013133   \n5      Alhambra             83089  0.283082          0.015417   \n6       Arcadia             56364  0.322741          0.012082   \n7       Artesia             16522  0.390146          0.035649   \n8        Avalon              3728  0.620440          0.005365   \n\n   Native American     Asian  Pacific Islander     Other  Two or More  \\\n4         0.002509  0.074816          0.001181  0.029021     0.035908   \n5         0.006475  0.529035          0.000975  0.130041     0.034975   \n6         0.003300  0.591743          0.000284  0.041729     0.028121   \n7         0.005689  0.371081          0.002421  0.159182     0.035831   \n8         0.005901  0.013144          0.003487  0.304989     0.046674   \n\n   Hispanic  \n4  0.095229  \n5  0.343993  \n6  0.120627  \n7  0.357705  \n8  0.557672  "
                    },
                    "execution_count": 18,
                    "metadata": {},
                    "output_type": "execute_result"
                }
            ],
            "source": "demographics_data[0:5]"
        },
        {
            "cell_type": "markdown",
            "metadata": {},
            "source": "Now we have the dataframe that lists each city in LA county, along with demographics information as percentages."
        },
        {
            "cell_type": "code",
            "execution_count": 19,
            "metadata": {},
            "outputs": [
                {
                    "data": {
                        "text/plain": "(141, 10)"
                    },
                    "execution_count": 19,
                    "metadata": {},
                    "output_type": "execute_result"
                }
            ],
            "source": "demographics_data.shape"
        },
        {
            "cell_type": "markdown",
            "metadata": {},
            "source": "We will now join the geospatial and demographics table so that we have the cities that we have both data for."
        },
        {
            "cell_type": "code",
            "execution_count": 20,
            "metadata": {},
            "outputs": [
                {
                    "data": {
                        "text/html": "<div>\n<style scoped>\n    .dataframe tbody tr th:only-of-type {\n        vertical-align: middle;\n    }\n\n    .dataframe tbody tr th {\n        vertical-align: top;\n    }\n\n    .dataframe thead th {\n        text-align: right;\n    }\n</style>\n<table border=\"1\" class=\"dataframe\">\n  <thead>\n    <tr style=\"text-align: right;\">\n      <th></th>\n      <th>City</th>\n      <th>ZipCode</th>\n      <th>Latitude</th>\n      <th>Longitude</th>\n    </tr>\n  </thead>\n  <tbody>\n    <tr>\n      <th>0</th>\n      <td>Manhattan Beach</td>\n      <td>90266</td>\n      <td>33.887281</td>\n      <td>-118.410607</td>\n    </tr>\n    <tr>\n      <th>1</th>\n      <td>Cerritos</td>\n      <td>90703</td>\n      <td>33.867227</td>\n      <td>-118.063873</td>\n    </tr>\n    <tr>\n      <th>2</th>\n      <td>Claremont</td>\n      <td>91711</td>\n      <td>34.095726</td>\n      <td>-117.716532</td>\n    </tr>\n    <tr>\n      <th>3</th>\n      <td>Burbank</td>\n      <td>91502</td>\n      <td>34.181820</td>\n      <td>-118.307890</td>\n    </tr>\n    <tr>\n      <th>5</th>\n      <td>Agoura Hills</td>\n      <td>91301</td>\n      <td>34.144303</td>\n      <td>-118.777612</td>\n    </tr>\n  </tbody>\n</table>\n</div>",
                        "text/plain": "              City ZipCode   Latitude   Longitude\n0  Manhattan Beach   90266  33.887281 -118.410607\n1         Cerritos   90703  33.867227 -118.063873\n2        Claremont   91711  34.095726 -117.716532\n3          Burbank   91502  34.181820 -118.307890\n5     Agoura Hills   91301  34.144303 -118.777612"
                    },
                    "execution_count": 20,
                    "metadata": {},
                    "output_type": "execute_result"
                }
            ],
            "source": "cities.head()"
        },
        {
            "cell_type": "code",
            "execution_count": 21,
            "metadata": {},
            "outputs": [],
            "source": "result = pd.merge(cities,demographics_data,how='inner', on='City')"
        },
        {
            "cell_type": "code",
            "execution_count": 22,
            "metadata": {},
            "outputs": [
                {
                    "data": {
                        "text/html": "<div>\n<style scoped>\n    .dataframe tbody tr th:only-of-type {\n        vertical-align: middle;\n    }\n\n    .dataframe tbody tr th {\n        vertical-align: top;\n    }\n\n    .dataframe thead th {\n        text-align: right;\n    }\n</style>\n<table border=\"1\" class=\"dataframe\">\n  <thead>\n    <tr style=\"text-align: right;\">\n      <th></th>\n      <th>City</th>\n      <th>ZipCode</th>\n      <th>Latitude</th>\n      <th>Longitude</th>\n      <th>Total Population</th>\n      <th>White</th>\n      <th>African American</th>\n      <th>Native American</th>\n      <th>Asian</th>\n      <th>Pacific Islander</th>\n      <th>Other</th>\n      <th>Two or More</th>\n      <th>Hispanic</th>\n    </tr>\n  </thead>\n  <tbody>\n    <tr>\n      <th>0</th>\n      <td>Manhattan Beach</td>\n      <td>90266</td>\n      <td>33.887281</td>\n      <td>-118.410607</td>\n      <td>35135</td>\n      <td>0.844912</td>\n      <td>0.008254</td>\n      <td>0.001679</td>\n      <td>0.086040</td>\n      <td>0.001395</td>\n      <td>0.011641</td>\n      <td>0.046079</td>\n      <td>0.069446</td>\n    </tr>\n    <tr>\n      <th>1</th>\n      <td>Cerritos</td>\n      <td>90703</td>\n      <td>33.867227</td>\n      <td>-118.063873</td>\n      <td>49041</td>\n      <td>0.231255</td>\n      <td>0.069085</td>\n      <td>0.002671</td>\n      <td>0.619135</td>\n      <td>0.002814</td>\n      <td>0.037153</td>\n      <td>0.037887</td>\n      <td>0.119961</td>\n    </tr>\n    <tr>\n      <th>2</th>\n      <td>Claremont</td>\n      <td>91711</td>\n      <td>34.095726</td>\n      <td>-117.716532</td>\n      <td>34926</td>\n      <td>0.706236</td>\n      <td>0.047271</td>\n      <td>0.004925</td>\n      <td>0.130676</td>\n      <td>0.001088</td>\n      <td>0.057693</td>\n      <td>0.052110</td>\n      <td>0.198105</td>\n    </tr>\n    <tr>\n      <th>3</th>\n      <td>Burbank</td>\n      <td>91502</td>\n      <td>34.181820</td>\n      <td>-118.307890</td>\n      <td>103340</td>\n      <td>0.727376</td>\n      <td>0.025160</td>\n      <td>0.004703</td>\n      <td>0.116189</td>\n      <td>0.000861</td>\n      <td>0.077405</td>\n      <td>0.048307</td>\n      <td>0.244920</td>\n    </tr>\n    <tr>\n      <th>4</th>\n      <td>Agoura Hills</td>\n      <td>91301</td>\n      <td>34.144303</td>\n      <td>-118.777612</td>\n      <td>20330</td>\n      <td>0.843433</td>\n      <td>0.013133</td>\n      <td>0.002509</td>\n      <td>0.074816</td>\n      <td>0.001181</td>\n      <td>0.029021</td>\n      <td>0.035908</td>\n      <td>0.095229</td>\n    </tr>\n  </tbody>\n</table>\n</div>",
                        "text/plain": "              City ZipCode   Latitude   Longitude  Total Population     White  \\\n0  Manhattan Beach   90266  33.887281 -118.410607             35135  0.844912   \n1         Cerritos   90703  33.867227 -118.063873             49041  0.231255   \n2        Claremont   91711  34.095726 -117.716532             34926  0.706236   \n3          Burbank   91502  34.181820 -118.307890            103340  0.727376   \n4     Agoura Hills   91301  34.144303 -118.777612             20330  0.843433   \n\n   African American  Native American     Asian  Pacific Islander     Other  \\\n0          0.008254         0.001679  0.086040          0.001395  0.011641   \n1          0.069085         0.002671  0.619135          0.002814  0.037153   \n2          0.047271         0.004925  0.130676          0.001088  0.057693   \n3          0.025160         0.004703  0.116189          0.000861  0.077405   \n4          0.013133         0.002509  0.074816          0.001181  0.029021   \n\n   Two or More  Hispanic  \n0     0.046079  0.069446  \n1     0.037887  0.119961  \n2     0.052110  0.198105  \n3     0.048307  0.244920  \n4     0.035908  0.095229  "
                    },
                    "execution_count": 22,
                    "metadata": {},
                    "output_type": "execute_result"
                }
            ],
            "source": "result.head()"
        },
        {
            "cell_type": "code",
            "execution_count": 23,
            "metadata": {},
            "outputs": [
                {
                    "data": {
                        "text/plain": "(89, 13)"
                    },
                    "execution_count": 23,
                    "metadata": {},
                    "output_type": "execute_result"
                }
            ],
            "source": "result.shape"
        },
        {
            "cell_type": "code",
            "execution_count": 24,
            "metadata": {},
            "outputs": [
                {
                    "data": {
                        "text/html": "<div>\n<style scoped>\n    .dataframe tbody tr th:only-of-type {\n        vertical-align: middle;\n    }\n\n    .dataframe tbody tr th {\n        vertical-align: top;\n    }\n\n    .dataframe thead th {\n        text-align: right;\n    }\n</style>\n<table border=\"1\" class=\"dataframe\">\n  <thead>\n    <tr style=\"text-align: right;\">\n      <th></th>\n      <th>City</th>\n      <th>ZipCode</th>\n      <th>Latitude</th>\n      <th>Longitude</th>\n    </tr>\n  </thead>\n  <tbody>\n    <tr>\n      <th>0</th>\n      <td>Manhattan Beach</td>\n      <td>90266</td>\n      <td>33.887281</td>\n      <td>-118.410607</td>\n    </tr>\n    <tr>\n      <th>1</th>\n      <td>Cerritos</td>\n      <td>90703</td>\n      <td>33.867227</td>\n      <td>-118.063873</td>\n    </tr>\n    <tr>\n      <th>2</th>\n      <td>Claremont</td>\n      <td>91711</td>\n      <td>34.095726</td>\n      <td>-117.716532</td>\n    </tr>\n    <tr>\n      <th>3</th>\n      <td>Burbank</td>\n      <td>91502</td>\n      <td>34.181820</td>\n      <td>-118.307890</td>\n    </tr>\n    <tr>\n      <th>4</th>\n      <td>Agoura Hills</td>\n      <td>91301</td>\n      <td>34.144303</td>\n      <td>-118.777612</td>\n    </tr>\n  </tbody>\n</table>\n</div>",
                        "text/plain": "              City ZipCode   Latitude   Longitude\n0  Manhattan Beach   90266  33.887281 -118.410607\n1         Cerritos   90703  33.867227 -118.063873\n2        Claremont   91711  34.095726 -117.716532\n3          Burbank   91502  34.181820 -118.307890\n4     Agoura Hills   91301  34.144303 -118.777612"
                    },
                    "execution_count": 24,
                    "metadata": {},
                    "output_type": "execute_result"
                }
            ],
            "source": "neighborhoods = result[[\"City\",\"ZipCode\",\"Latitude\",\"Longitude\"]]\nneighborhoods.head()"
        },
        {
            "cell_type": "markdown",
            "metadata": {},
            "source": "Let's see what the geospatial data for Rosemead looks like:"
        },
        {
            "cell_type": "code",
            "execution_count": 25,
            "metadata": {},
            "outputs": [
                {
                    "data": {
                        "text/html": "<div>\n<style scoped>\n    .dataframe tbody tr th:only-of-type {\n        vertical-align: middle;\n    }\n\n    .dataframe tbody tr th {\n        vertical-align: top;\n    }\n\n    .dataframe thead th {\n        text-align: right;\n    }\n</style>\n<table border=\"1\" class=\"dataframe\">\n  <thead>\n    <tr style=\"text-align: right;\">\n      <th></th>\n      <th>City</th>\n      <th>ZipCode</th>\n      <th>Latitude</th>\n      <th>Longitude</th>\n    </tr>\n  </thead>\n  <tbody>\n    <tr>\n      <th>59</th>\n      <td>Rosemead</td>\n      <td>91770</td>\n      <td>34.080568</td>\n      <td>-118.076757</td>\n    </tr>\n  </tbody>\n</table>\n</div>",
                        "text/plain": "        City ZipCode   Latitude   Longitude\n59  Rosemead   91770  34.080568 -118.076757"
                    },
                    "execution_count": 25,
                    "metadata": {},
                    "output_type": "execute_result"
                }
            ],
            "source": "neighborhoods.loc[neighborhoods.City=='Rosemead']"
        },
        {
            "cell_type": "markdown",
            "metadata": {},
            "source": "### Foursquare Data"
        },
        {
            "cell_type": "markdown",
            "metadata": {},
            "source": "Now, we'll use Foursquare API to get information on restaurants in each city. We are interested in vanues in the 'food' category, and we will focus on venues that are close to the city center, i.e. the location of the city hall which we obtained earlier. Let's first obtain the dataset for Rosemead, then we will obtain the location data for remaining population after we narrow down the cities into those that are similar to Rosemead, CA in terms of demographics"
        },
        {
            "cell_type": "markdown",
            "metadata": {},
            "source": "Foursquare credentials are defined in hidden cell bellow."
        },
        {
            "cell_type": "code",
            "execution_count": 1,
            "metadata": {},
            "outputs": [],
            "source": "# The code was removed by Watson Studio for sharing."
        },
        {
            "cell_type": "markdown",
            "metadata": {},
            "source": "Let's first get the Foursquare data for the city of Rosemead. Radius is set to 1 mile from the city hall coordinates (i.e. about 1600 meters)."
        },
        {
            "cell_type": "code",
            "execution_count": 27,
            "metadata": {},
            "outputs": [],
            "source": "latitudes = neighborhoods.loc[59,'Latitude']\nlongitudes = neighborhoods.loc[59,'Longitude']"
        },
        {
            "cell_type": "code",
            "execution_count": 28,
            "metadata": {},
            "outputs": [
                {
                    "name": "stderr",
                    "output_type": "stream",
                    "text": "/home/jupyterlab/conda/envs/python/lib/python3.6/site-packages/ipykernel_launcher.py:9: FutureWarning: pandas.io.json.json_normalize is deprecated, use pandas.json_normalize instead\n  if __name__ == '__main__':\n"
                }
            ],
            "source": "food_category = '4d4b7105d754a06374d81259' # 'Root' category for all food-related venues\nradius=1600\nlimit=200\n\nurl = 'https://api.foursquare.com/v2/venues/explore?client_id={}&client_secret={}&v={}&ll={},{}&categoryId={}&radius={}&limit={}'.format(\n    CLIENT_ID, CLIENT_SECRET, VERSION, latitudes, longitudes, food_category, radius, limit)\nresults = requests.get(url).json()\nvenues = results['response']['groups'][0]['items']\nnearby_venues = json_normalize(venues)"
        },
        {
            "cell_type": "code",
            "execution_count": 29,
            "metadata": {},
            "outputs": [
                {
                    "data": {
                        "text/html": "<div>\n<style scoped>\n    .dataframe tbody tr th:only-of-type {\n        vertical-align: middle;\n    }\n\n    .dataframe tbody tr th {\n        vertical-align: top;\n    }\n\n    .dataframe thead th {\n        text-align: right;\n    }\n</style>\n<table border=\"1\" class=\"dataframe\">\n  <thead>\n    <tr style=\"text-align: right;\">\n      <th></th>\n      <th>referralId</th>\n      <th>reasons.count</th>\n      <th>reasons.items</th>\n      <th>venue.id</th>\n      <th>venue.name</th>\n      <th>venue.location.address</th>\n      <th>venue.location.crossStreet</th>\n      <th>venue.location.lat</th>\n      <th>venue.location.lng</th>\n      <th>venue.location.labeledLatLngs</th>\n      <th>...</th>\n      <th>venue.photos.count</th>\n      <th>venue.photos.groups</th>\n      <th>venue.location.neighborhood</th>\n      <th>venue.venuePage.id</th>\n      <th>venue.delivery.id</th>\n      <th>venue.delivery.url</th>\n      <th>venue.delivery.provider.name</th>\n      <th>venue.delivery.provider.icon.prefix</th>\n      <th>venue.delivery.provider.icon.sizes</th>\n      <th>venue.delivery.provider.icon.name</th>\n    </tr>\n  </thead>\n  <tbody>\n    <tr>\n      <th>0</th>\n      <td>e-0-4b6b2a9bf964a52003f72be3-0</td>\n      <td>0</td>\n      <td>[{'summary': 'This spot is popular', 'type': '...</td>\n      <td>4b6b2a9bf964a52003f72be3</td>\n      <td>In-N-Out Burger</td>\n      <td>4242 Rosemead Blvd</td>\n      <td>at Mission Dr</td>\n      <td>34.083733</td>\n      <td>-118.073195</td>\n      <td>[{'label': 'display', 'lat': 34.08373322493041...</td>\n      <td>...</td>\n      <td>0</td>\n      <td>[]</td>\n      <td>NaN</td>\n      <td>NaN</td>\n      <td>NaN</td>\n      <td>NaN</td>\n      <td>NaN</td>\n      <td>NaN</td>\n      <td>NaN</td>\n      <td>NaN</td>\n    </tr>\n    <tr>\n      <th>1</th>\n      <td>e-0-5323b498498eb004b2962377-1</td>\n      <td>0</td>\n      <td>[{'summary': 'This spot is popular', 'type': '...</td>\n      <td>5323b498498eb004b2962377</td>\n      <td>Summer Rolls</td>\n      <td>9016 Mission</td>\n      <td>Rosemead</td>\n      <td>34.083945</td>\n      <td>-118.072719</td>\n      <td>[{'label': 'display', 'lat': 34.08394546505231...</td>\n      <td>...</td>\n      <td>0</td>\n      <td>[]</td>\n      <td>NaN</td>\n      <td>NaN</td>\n      <td>NaN</td>\n      <td>NaN</td>\n      <td>NaN</td>\n      <td>NaN</td>\n      <td>NaN</td>\n      <td>NaN</td>\n    </tr>\n  </tbody>\n</table>\n<p>2 rows \u00d7 28 columns</p>\n</div>",
                        "text/plain": "                       referralId  reasons.count  \\\n0  e-0-4b6b2a9bf964a52003f72be3-0              0   \n1  e-0-5323b498498eb004b2962377-1              0   \n\n                                       reasons.items  \\\n0  [{'summary': 'This spot is popular', 'type': '...   \n1  [{'summary': 'This spot is popular', 'type': '...   \n\n                   venue.id       venue.name venue.location.address  \\\n0  4b6b2a9bf964a52003f72be3  In-N-Out Burger     4242 Rosemead Blvd   \n1  5323b498498eb004b2962377     Summer Rolls           9016 Mission   \n\n  venue.location.crossStreet  venue.location.lat  venue.location.lng  \\\n0              at Mission Dr           34.083733         -118.073195   \n1                   Rosemead           34.083945         -118.072719   \n\n                       venue.location.labeledLatLngs  ...  venue.photos.count  \\\n0  [{'label': 'display', 'lat': 34.08373322493041...  ...                   0   \n1  [{'label': 'display', 'lat': 34.08394546505231...  ...                   0   \n\n  venue.photos.groups venue.location.neighborhood venue.venuePage.id  \\\n0                  []                         NaN                NaN   \n1                  []                         NaN                NaN   \n\n  venue.delivery.id venue.delivery.url venue.delivery.provider.name  \\\n0               NaN                NaN                          NaN   \n1               NaN                NaN                          NaN   \n\n  venue.delivery.provider.icon.prefix  venue.delivery.provider.icon.sizes  \\\n0                                 NaN                                 NaN   \n1                                 NaN                                 NaN   \n\n  venue.delivery.provider.icon.name  \n0                               NaN  \n1                               NaN  \n\n[2 rows x 28 columns]"
                    },
                    "execution_count": 29,
                    "metadata": {},
                    "output_type": "execute_result"
                }
            ],
            "source": "nearby_venues[0:2]"
        },
        {
            "cell_type": "code",
            "execution_count": 30,
            "metadata": {},
            "outputs": [
                {
                    "data": {
                        "text/plain": "(100, 28)"
                    },
                    "execution_count": 30,
                    "metadata": {},
                    "output_type": "execute_result"
                }
            ],
            "source": "nearby_venues.shape"
        },
        {
            "cell_type": "markdown",
            "metadata": {},
            "source": "We see that there are 100 restaurants in Rosemead, CA that are a mile from city center."
        },
        {
            "cell_type": "markdown",
            "metadata": {},
            "source": "Now that we have gathered the basic data required, we are ready to perform some analysis. "
        }
    ],
    "metadata": {
        "kernelspec": {
            "display_name": "Python 3.7",
            "language": "python",
            "name": "python3"
        },
        "language_info": {
            "codemirror_mode": {
                "name": "ipython",
                "version": 3
            },
            "file_extension": ".py",
            "mimetype": "text/x-python",
            "name": "python",
            "nbconvert_exporter": "python",
            "pygments_lexer": "ipython3",
            "version": "3.7.10"
        }
    },
    "nbformat": 4,
    "nbformat_minor": 4
}